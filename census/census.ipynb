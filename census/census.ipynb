{
 "cells": [
  {
   "cell_type": "code",
   "execution_count": 1,
   "metadata": {},
   "outputs": [],
   "source": [
    "import pandas as pd"
   ]
  },
  {
   "cell_type": "code",
   "execution_count": 3,
   "metadata": {},
   "outputs": [],
   "source": [
    "library_df = pd.read_csv('libraries.csv')"
   ]
  },
  {
   "cell_type": "code",
   "execution_count": 10,
   "metadata": {},
   "outputs": [
    {
     "data": {
      "text/plain": [
       "numpy           110\n",
       "matplotlib      102\n",
       "xarray           87\n",
       "pandas           66\n",
       "cartopy          65\n",
       "scipy            50\n",
       "datetime         46\n",
       "os               45\n",
       "sys              35\n",
       "netcdf4          31\n",
       "glob             28\n",
       "dask             25\n",
       "cmocean          22\n",
       "metpy            19\n",
       "seaborn          14\n",
       "pathlib          12\n",
       "re               12\n",
       "xgcm             11\n",
       "math             11\n",
       "requests         10\n",
       "copy             10\n",
       "warnings         10\n",
       "mpl_toolkits      9\n",
       "geopandas         9\n",
       "sklearn           9\n",
       "shapely           9\n",
       "shutil            8\n",
       "time              8\n",
       "intake            8\n",
       "pickle            8\n",
       "pyart             7\n",
       "siphon            7\n",
       "csv               7\n",
       "argparse          7\n",
       "statsmodels       6\n",
       "subprocess        6\n",
       "urllib            6\n",
       "xesmf             6\n",
       "json              5\n",
       "xrft              5\n",
       "collections       5\n",
       "iris              5\n",
       "tqdm              5\n",
       "zarr              4\n",
       "pygrib            4\n",
       "numba             4\n",
       "gzip              4\n",
       "h5py              4\n",
       "cftime            4\n",
       "pytz              3\n",
       "erddapy           3\n",
       "dateutil          3\n",
       "eofs              3\n",
       "cf_units          3\n",
       "psycopg2          3\n",
       "string            3\n",
       "gsw               3\n",
       "logging           3\n",
       "glidertools       3\n",
       "importlib         3\n",
       "Name: libraries, dtype: int64"
      ]
     },
     "execution_count": 10,
     "metadata": {},
     "output_type": "execute_result"
    }
   ],
   "source": [
    "library_df['libraries'].value_counts()[0:60]"
   ]
  },
  {
   "cell_type": "code",
   "execution_count": 16,
   "metadata": {},
   "outputs": [],
   "source": [
    "df = pd.read_csv('census.csv')\n",
    "df['Country of residence'] = df['Country of residence'].str.strip()"
   ]
  },
  {
   "cell_type": "code",
   "execution_count": 18,
   "metadata": {},
   "outputs": [
    {
     "data": {
      "text/plain": [
       "30-39    58\n",
       "20-29    44\n",
       "40-49    22\n",
       "50-59    10\n",
       "60-69     4\n",
       "Name: Age, dtype: int64"
      ]
     },
     "execution_count": 18,
     "metadata": {},
     "output_type": "execute_result"
    }
   ],
   "source": [
    "df['Age'].value_counts()"
   ]
  },
  {
   "cell_type": "code",
   "execution_count": 19,
   "metadata": {},
   "outputs": [
    {
     "data": {
      "text/plain": [
       "Man           102\n",
       "Woman          35\n",
       "Non-binary      1\n",
       "Name: Gender: how do you identify?, dtype: int64"
      ]
     },
     "execution_count": 19,
     "metadata": {},
     "output_type": "execute_result"
    }
   ],
   "source": [
    "df['Gender: how do you identify?'].value_counts()"
   ]
  },
  {
   "cell_type": "code",
   "execution_count": 17,
   "metadata": {},
   "outputs": [
    {
     "data": {
      "text/plain": [
       "US    82\n",
       "AU    21\n",
       "GB     7\n",
       "IN     4\n",
       "BR     3\n",
       "UK     2\n",
       "SE     2\n",
       "CA     1\n",
       "CN     1\n",
       "DE     1\n",
       "NZ     1\n",
       "KR     1\n",
       "FI     1\n",
       "CL     1\n",
       "AT     1\n",
       "NL     1\n",
       "ES     1\n",
       "TW     1\n",
       "Name: Country of residence, dtype: int64"
      ]
     },
     "execution_count": 17,
     "metadata": {},
     "output_type": "execute_result"
    }
   ],
   "source": [
    "df['Country of residence'].value_counts()"
   ]
  },
  {
   "cell_type": "code",
   "execution_count": null,
   "metadata": {},
   "outputs": [],
   "source": []
  }
 ],
 "metadata": {
  "kernelspec": {
   "display_name": "Python 3",
   "language": "python",
   "name": "python3"
  },
  "language_info": {
   "codemirror_mode": {
    "name": "ipython",
    "version": 3
   },
   "file_extension": ".py",
   "mimetype": "text/x-python",
   "name": "python",
   "nbconvert_exporter": "python",
   "pygments_lexer": "ipython3",
   "version": "3.8.5"
  }
 },
 "nbformat": 4,
 "nbformat_minor": 4
}
