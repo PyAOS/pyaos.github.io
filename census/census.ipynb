{
 "cells": [
  {
   "cell_type": "markdown",
   "metadata": {},
   "source": [
    "# PyAOS Census"
   ]
  },
  {
   "cell_type": "code",
   "execution_count": 1,
   "metadata": {},
   "outputs": [],
   "source": [
    "import pandas as pd\n",
    "import seaborn as sns\n",
    "import matplotlib.pyplot as plt"
   ]
  },
  {
   "cell_type": "code",
   "execution_count": 2,
   "metadata": {},
   "outputs": [],
   "source": [
    "main_df = pd.read_csv('census.csv')\n",
    "discipline_df = pd.read_csv('disciplines.csv')\n",
    "learning_df = pd.read_csv('learning.csv')\n",
    "data_df = pd.read_csv('data_types.csv')\n",
    "format_df = pd.read_csv('file_formats.csv')\n",
    "platform_df = pd.read_csv('platforms.csv')\n",
    "environment_df = pd.read_csv('environments.csv')"
   ]
  },
  {
   "cell_type": "code",
   "execution_count": 3,
   "metadata": {},
   "outputs": [
    {
     "data": {
      "text/html": [
       "<div>\n",
       "<style scoped>\n",
       "    .dataframe tbody tr th:only-of-type {\n",
       "        vertical-align: middle;\n",
       "    }\n",
       "\n",
       "    .dataframe tbody tr th {\n",
       "        vertical-align: top;\n",
       "    }\n",
       "\n",
       "    .dataframe thead th {\n",
       "        text-align: right;\n",
       "    }\n",
       "</style>\n",
       "<table border=\"1\" class=\"dataframe\">\n",
       "  <thead>\n",
       "    <tr style=\"text-align: right;\">\n",
       "      <th></th>\n",
       "      <th>Participant</th>\n",
       "      <th>Timestamp</th>\n",
       "      <th>Age</th>\n",
       "      <th>Gender: how do you identify?</th>\n",
       "      <th>Career stage</th>\n",
       "      <th>Primary AOS discipline/s</th>\n",
       "      <th>Country of residence</th>\n",
       "      <th>How long have you been using Python?</th>\n",
       "      <th>How have you learned Python?</th>\n",
       "      <th>What are some of the best resources you're aware of for learning Python?</th>\n",
       "      <th>What types of AOS data do you work with?</th>\n",
       "      <th>Which of those data types do you most commonly work with?</th>\n",
       "      <th>What file formats are your AOS data stored in?</th>\n",
       "      <th>Which of those file formats do you most commonly work with?</th>\n",
       "      <th>What computing platforms do you use for your AOS data science?</th>\n",
       "      <th>Which of those computing platforms do you most commonly work on for your AOS data science?</th>\n",
       "      <th>What development environments do you regularly use for your Python coding?</th>\n",
       "      <th>Recent Python libraries</th>\n",
       "      <th>Other Python libraries</th>\n",
       "      <th>Anything else you'd like to share?</th>\n",
       "    </tr>\n",
       "  </thead>\n",
       "  <tbody>\n",
       "    <tr>\n",
       "      <th>0</th>\n",
       "      <td>1</td>\n",
       "      <td>2021/04/20 12:04:51 PM GMT+10</td>\n",
       "      <td>50-59</td>\n",
       "      <td>Man</td>\n",
       "      <td>Industry / Professional (more than 5 years pos...</td>\n",
       "      <td>Climate Change Processes;Physical Oceanography</td>\n",
       "      <td>AU</td>\n",
       "      <td>2-5 years</td>\n",
       "      <td>Self taught (from textbooks, online tutorials,...</td>\n",
       "      <td>https://stackoverflow.com/</td>\n",
       "      <td>Raster data (i.e. multi-dimensional gridded da...</td>\n",
       "      <td>Raster data (i.e. multi-dimensional gridded da...</td>\n",
       "      <td>netCDF;Zarr;GeoTIFF;CSV;Shapefile</td>\n",
       "      <td>Zarr</td>\n",
       "      <td>Personal laptop/desktop;Supercomputer (e.g. ru...</td>\n",
       "      <td>Supercomputer (e.g. run by your institution or...</td>\n",
       "      <td>Jupyter</td>\n",
       "      <td>#Pangeo toolset\\nimport xarray as xr\\nimport d...</td>\n",
       "      <td>NaN</td>\n",
       "      <td>NaN</td>\n",
       "    </tr>\n",
       "    <tr>\n",
       "      <th>1</th>\n",
       "      <td>2</td>\n",
       "      <td>2021/04/20 12:07:36 PM GMT+10</td>\n",
       "      <td>30-39</td>\n",
       "      <td>Woman</td>\n",
       "      <td>Academic (within 5 years of highest qualificat...</td>\n",
       "      <td>Atmospheric Dynamics;Physical Oceanography;Mod...</td>\n",
       "      <td>AU</td>\n",
       "      <td>6-10 years</td>\n",
       "      <td>Self taught (from textbooks, online tutorials,...</td>\n",
       "      <td>General python learning: https://realpython.co...</td>\n",
       "      <td>Raster data (i.e. multi-dimensional gridded da...</td>\n",
       "      <td>Raster data (i.e. multi-dimensional gridded da...</td>\n",
       "      <td>netCDF;Zarr;CSV</td>\n",
       "      <td>Zarr</td>\n",
       "      <td>Personal laptop/desktop;Supercomputer (e.g. ru...</td>\n",
       "      <td>Cloud (e.g. Amazon Web Services)</td>\n",
       "      <td>Jupyter;Atom</td>\n",
       "      <td>from matplotlib import pyplot as plt\\nimport n...</td>\n",
       "      <td>NaN</td>\n",
       "      <td>NaN</td>\n",
       "    </tr>\n",
       "    <tr>\n",
       "      <th>2</th>\n",
       "      <td>3</td>\n",
       "      <td>2021/04/20 12:15:49 PM GMT+10</td>\n",
       "      <td>30-39</td>\n",
       "      <td>Man</td>\n",
       "      <td>Academic (more than 5 years post highest quali...</td>\n",
       "      <td>Climate Change Processes</td>\n",
       "      <td>AU</td>\n",
       "      <td>6-10 years</td>\n",
       "      <td>University semester course/s (e.g. \"Introducti...</td>\n",
       "      <td>PyAOS Data Carpentry: https://carpentrieslab.g...</td>\n",
       "      <td>Raster data (i.e. multi-dimensional gridded da...</td>\n",
       "      <td>Raster data (i.e. multi-dimensional gridded da...</td>\n",
       "      <td>netCDF;CSV</td>\n",
       "      <td>netCDF</td>\n",
       "      <td>Personal laptop/desktop;Supercomputer (e.g. ru...</td>\n",
       "      <td>Supercomputer (e.g. run by your institution or...</td>\n",
       "      <td>Jupyter;Vim;bbedit</td>\n",
       "      <td>import sys\\nimport os\\nimport pdb\\nimport argp...</td>\n",
       "      <td>NaN</td>\n",
       "      <td>NaN</td>\n",
       "    </tr>\n",
       "    <tr>\n",
       "      <th>3</th>\n",
       "      <td>4</td>\n",
       "      <td>2021/04/20 2:09:34 PM GMT+10</td>\n",
       "      <td>30-39</td>\n",
       "      <td>Man</td>\n",
       "      <td>Academic (within 5 years of highest qualificat...</td>\n",
       "      <td>Atmospheric Dynamics;Climatology (excl. Climat...</td>\n",
       "      <td>AU</td>\n",
       "      <td>2-5 years</td>\n",
       "      <td>Self taught (from textbooks, online tutorials,...</td>\n",
       "      <td>Stack exchange</td>\n",
       "      <td>Raster data (i.e. multi-dimensional gridded da...</td>\n",
       "      <td>Raster data (i.e. multi-dimensional gridded da...</td>\n",
       "      <td>netCDF;Zarr;Shapefile</td>\n",
       "      <td>Zarr</td>\n",
       "      <td>Personal laptop/desktop;Supercomputer (e.g. ru...</td>\n",
       "      <td>Supercomputer (e.g. run by your institution or...</td>\n",
       "      <td>Jupyter;Vim</td>\n",
       "      <td>import os\\nimport sys\\nimport glob\\nimport cft...</td>\n",
       "      <td>import xrft\\nimport warnings\\nimport xskillsco...</td>\n",
       "      <td>NaN</td>\n",
       "    </tr>\n",
       "    <tr>\n",
       "      <th>4</th>\n",
       "      <td>5</td>\n",
       "      <td>2021/04/20 2:40:44 PM GMT+10</td>\n",
       "      <td>30-39</td>\n",
       "      <td>Man</td>\n",
       "      <td>Academic (more than 5 years post highest quali...</td>\n",
       "      <td>Atmospheric Dynamics;Cloud Physics;Modelling</td>\n",
       "      <td>CN</td>\n",
       "      <td>6-10 years</td>\n",
       "      <td>Self taught (from textbooks, online tutorials,...</td>\n",
       "      <td>&lt;learning python 5ed&gt;</td>\n",
       "      <td>Raster data (i.e. multi-dimensional gridded da...</td>\n",
       "      <td>Raster data (i.e. multi-dimensional gridded da...</td>\n",
       "      <td>netCDF;CSV</td>\n",
       "      <td>netCDF</td>\n",
       "      <td>Personal laptop/desktop;Supercomputer (e.g. ru...</td>\n",
       "      <td>Personal laptop/desktop</td>\n",
       "      <td>Jupyter;Sublime Text</td>\n",
       "      <td>import warnings\\nimport numpy as np\\nimport ma...</td>\n",
       "      <td>NaN</td>\n",
       "      <td>NaN</td>\n",
       "    </tr>\n",
       "    <tr>\n",
       "      <th>...</th>\n",
       "      <td>...</td>\n",
       "      <td>...</td>\n",
       "      <td>...</td>\n",
       "      <td>...</td>\n",
       "      <td>...</td>\n",
       "      <td>...</td>\n",
       "      <td>...</td>\n",
       "      <td>...</td>\n",
       "      <td>...</td>\n",
       "      <td>...</td>\n",
       "      <td>...</td>\n",
       "      <td>...</td>\n",
       "      <td>...</td>\n",
       "      <td>...</td>\n",
       "      <td>...</td>\n",
       "      <td>...</td>\n",
       "      <td>...</td>\n",
       "      <td>...</td>\n",
       "      <td>...</td>\n",
       "      <td>...</td>\n",
       "    </tr>\n",
       "    <tr>\n",
       "      <th>139</th>\n",
       "      <td>140</td>\n",
       "      <td>2021/05/13 9:56:58 AM GMT+10</td>\n",
       "      <td>30-39</td>\n",
       "      <td>Man</td>\n",
       "      <td>Academic (within 5 years of highest qualificat...</td>\n",
       "      <td>Climate Change Processes;Climatology (excl. Cl...</td>\n",
       "      <td>US</td>\n",
       "      <td>Less than 1 year</td>\n",
       "      <td>Workshop/s (e.g. Carpentries, Unidata)</td>\n",
       "      <td>Workshop and internet will be the general answ...</td>\n",
       "      <td>Raster data (i.e. multi-dimensional gridded da...</td>\n",
       "      <td>Raster data (i.e. multi-dimensional gridded da...</td>\n",
       "      <td>netCDF</td>\n",
       "      <td>netCDF</td>\n",
       "      <td>Personal laptop/desktop;Supercomputer (e.g. ru...</td>\n",
       "      <td>Supercomputer (e.g. run by your institution or...</td>\n",
       "      <td>Jupyter</td>\n",
       "      <td>import xarray as xr\\nimport numpy as np\\nimpor...</td>\n",
       "      <td>I also use cartopy for mapping.</td>\n",
       "      <td>Thank you for the opportunity and engaging the...</td>\n",
       "    </tr>\n",
       "    <tr>\n",
       "      <th>140</th>\n",
       "      <td>141</td>\n",
       "      <td>2021/05/24 10:54:03 AM GMT+10</td>\n",
       "      <td>30-39</td>\n",
       "      <td>Man</td>\n",
       "      <td>Industry / Professional (more than 5 years pos...</td>\n",
       "      <td>AOS Research Software Engineer;AOS Research Co...</td>\n",
       "      <td>AU</td>\n",
       "      <td>More than 10 years</td>\n",
       "      <td>Self taught (from textbooks, online tutorials,...</td>\n",
       "      <td>hands-on experience and stack exchange</td>\n",
       "      <td>Raster data (i.e. multi-dimensional gridded da...</td>\n",
       "      <td>Tabular data</td>\n",
       "      <td>netCDF;GeoTIFF;CSV;GeoJSON;Shapefile;ESRI File...</td>\n",
       "      <td>CSV</td>\n",
       "      <td>Personal laptop/desktop;Supercomputer (e.g. ru...</td>\n",
       "      <td>Personal laptop/desktop</td>\n",
       "      <td>PyCharm;Sublime Text</td>\n",
       "      <td>import argparse\\nimport base64\\nimport csv\\nim...</td>\n",
       "      <td>NaN</td>\n",
       "      <td>NaN</td>\n",
       "    </tr>\n",
       "    <tr>\n",
       "      <th>141</th>\n",
       "      <td>142</td>\n",
       "      <td>2021/05/25 10:47:33 AM GMT+10</td>\n",
       "      <td>40-49</td>\n",
       "      <td>Man</td>\n",
       "      <td>Academic (more than 5 years post highest quali...</td>\n",
       "      <td>Climate Change Processes;Physical Oceanography</td>\n",
       "      <td>AU</td>\n",
       "      <td>1-2 years</td>\n",
       "      <td>Workshop/s (e.g. Carpentries, Unidata);Self ta...</td>\n",
       "      <td>I've yet to find a really good resource</td>\n",
       "      <td>Raster data (i.e. multi-dimensional gridded da...</td>\n",
       "      <td>Raster data (i.e. multi-dimensional gridded da...</td>\n",
       "      <td>netCDF;CSV</td>\n",
       "      <td>netCDF</td>\n",
       "      <td>Personal laptop/desktop;Supercomputer (e.g. ru...</td>\n",
       "      <td>Personal laptop/desktop</td>\n",
       "      <td>Jupyter</td>\n",
       "      <td>import cosima_cookbook as cc\\nfrom dask.distri...</td>\n",
       "      <td>NaN</td>\n",
       "      <td>My biggest frustration with python is that the...</td>\n",
       "    </tr>\n",
       "    <tr>\n",
       "      <th>142</th>\n",
       "      <td>143</td>\n",
       "      <td>2021/05/25 8:38:23 PM GMT+10</td>\n",
       "      <td>30-39</td>\n",
       "      <td>Man</td>\n",
       "      <td>PhD student</td>\n",
       "      <td>Atmospheric Aerosols;Atmospheric Dynamics;Clim...</td>\n",
       "      <td>IN</td>\n",
       "      <td>2-5 years</td>\n",
       "      <td>Self taught (from textbooks, online tutorials,...</td>\n",
       "      <td>NaN</td>\n",
       "      <td>Raster data (i.e. multi-dimensional gridded da...</td>\n",
       "      <td>Raster data (i.e. multi-dimensional gridded da...</td>\n",
       "      <td>netCDF;Zarr;GRIB;HDF;GeoJSON;GeoPackage;Shapef...</td>\n",
       "      <td>netCDF</td>\n",
       "      <td>Personal laptop/desktop;Supercomputer (e.g. ru...</td>\n",
       "      <td>Personal laptop/desktop</td>\n",
       "      <td>Jupyter;PyCharm;Notepad ++</td>\n",
       "      <td>Import xarray as xr</td>\n",
       "      <td>NaN</td>\n",
       "      <td>NaN</td>\n",
       "    </tr>\n",
       "    <tr>\n",
       "      <th>143</th>\n",
       "      <td>144</td>\n",
       "      <td>2021/05/27 2:12:58 AM GMT+10</td>\n",
       "      <td>20-29</td>\n",
       "      <td>Man</td>\n",
       "      <td>Undergraduate student</td>\n",
       "      <td>Meteorology</td>\n",
       "      <td>CN</td>\n",
       "      <td>2-5 years</td>\n",
       "      <td>Self taught (from textbooks, online tutorials,...</td>\n",
       "      <td>This is I need.</td>\n",
       "      <td>NaN</td>\n",
       "      <td>NaN</td>\n",
       "      <td>NaN</td>\n",
       "      <td>NaN</td>\n",
       "      <td>NaN</td>\n",
       "      <td>NaN</td>\n",
       "      <td>NaN</td>\n",
       "      <td>import numpy as np\\nimport xarray as xr\\nimpor...</td>\n",
       "      <td>NaN</td>\n",
       "      <td>NaN</td>\n",
       "    </tr>\n",
       "  </tbody>\n",
       "</table>\n",
       "<p>144 rows × 20 columns</p>\n",
       "</div>"
      ],
      "text/plain": [
       "     Participant                      Timestamp    Age  \\\n",
       "0              1  2021/04/20 12:04:51 PM GMT+10  50-59   \n",
       "1              2  2021/04/20 12:07:36 PM GMT+10  30-39   \n",
       "2              3  2021/04/20 12:15:49 PM GMT+10  30-39   \n",
       "3              4   2021/04/20 2:09:34 PM GMT+10  30-39   \n",
       "4              5   2021/04/20 2:40:44 PM GMT+10  30-39   \n",
       "..           ...                            ...    ...   \n",
       "139          140   2021/05/13 9:56:58 AM GMT+10  30-39   \n",
       "140          141  2021/05/24 10:54:03 AM GMT+10  30-39   \n",
       "141          142  2021/05/25 10:47:33 AM GMT+10  40-49   \n",
       "142          143   2021/05/25 8:38:23 PM GMT+10  30-39   \n",
       "143          144   2021/05/27 2:12:58 AM GMT+10  20-29   \n",
       "\n",
       "    Gender: how do you identify?  \\\n",
       "0                            Man   \n",
       "1                          Woman   \n",
       "2                            Man   \n",
       "3                            Man   \n",
       "4                            Man   \n",
       "..                           ...   \n",
       "139                          Man   \n",
       "140                          Man   \n",
       "141                          Man   \n",
       "142                          Man   \n",
       "143                          Man   \n",
       "\n",
       "                                          Career stage  \\\n",
       "0    Industry / Professional (more than 5 years pos...   \n",
       "1    Academic (within 5 years of highest qualificat...   \n",
       "2    Academic (more than 5 years post highest quali...   \n",
       "3    Academic (within 5 years of highest qualificat...   \n",
       "4    Academic (more than 5 years post highest quali...   \n",
       "..                                                 ...   \n",
       "139  Academic (within 5 years of highest qualificat...   \n",
       "140  Industry / Professional (more than 5 years pos...   \n",
       "141  Academic (more than 5 years post highest quali...   \n",
       "142                                        PhD student   \n",
       "143                              Undergraduate student   \n",
       "\n",
       "                              Primary AOS discipline/s Country of residence  \\\n",
       "0       Climate Change Processes;Physical Oceanography                   AU   \n",
       "1    Atmospheric Dynamics;Physical Oceanography;Mod...                   AU   \n",
       "2                             Climate Change Processes                   AU   \n",
       "3    Atmospheric Dynamics;Climatology (excl. Climat...                   AU   \n",
       "4         Atmospheric Dynamics;Cloud Physics;Modelling                   CN   \n",
       "..                                                 ...                  ...   \n",
       "139  Climate Change Processes;Climatology (excl. Cl...                   US   \n",
       "140  AOS Research Software Engineer;AOS Research Co...                   AU   \n",
       "141     Climate Change Processes;Physical Oceanography                   AU   \n",
       "142  Atmospheric Aerosols;Atmospheric Dynamics;Clim...                   IN   \n",
       "143                                        Meteorology                   CN   \n",
       "\n",
       "    How long have you been using Python?  \\\n",
       "0                              2-5 years   \n",
       "1                             6-10 years   \n",
       "2                             6-10 years   \n",
       "3                              2-5 years   \n",
       "4                             6-10 years   \n",
       "..                                   ...   \n",
       "139                     Less than 1 year   \n",
       "140                   More than 10 years   \n",
       "141                            1-2 years   \n",
       "142                            2-5 years   \n",
       "143                            2-5 years   \n",
       "\n",
       "                          How have you learned Python?  \\\n",
       "0    Self taught (from textbooks, online tutorials,...   \n",
       "1    Self taught (from textbooks, online tutorials,...   \n",
       "2    University semester course/s (e.g. \"Introducti...   \n",
       "3    Self taught (from textbooks, online tutorials,...   \n",
       "4    Self taught (from textbooks, online tutorials,...   \n",
       "..                                                 ...   \n",
       "139             Workshop/s (e.g. Carpentries, Unidata)   \n",
       "140  Self taught (from textbooks, online tutorials,...   \n",
       "141  Workshop/s (e.g. Carpentries, Unidata);Self ta...   \n",
       "142  Self taught (from textbooks, online tutorials,...   \n",
       "143  Self taught (from textbooks, online tutorials,...   \n",
       "\n",
       "    What are some of the best resources you're aware of for learning Python?  \\\n",
       "0                           https://stackoverflow.com/                         \n",
       "1    General python learning: https://realpython.co...                         \n",
       "2    PyAOS Data Carpentry: https://carpentrieslab.g...                         \n",
       "3                                       Stack exchange                         \n",
       "4                                <learning python 5ed>                         \n",
       "..                                                 ...                         \n",
       "139  Workshop and internet will be the general answ...                         \n",
       "140             hands-on experience and stack exchange                         \n",
       "141            I've yet to find a really good resource                         \n",
       "142                                                NaN                         \n",
       "143                                    This is I need.                         \n",
       "\n",
       "              What types of AOS data do you work with?  \\\n",
       "0    Raster data (i.e. multi-dimensional gridded da...   \n",
       "1    Raster data (i.e. multi-dimensional gridded da...   \n",
       "2    Raster data (i.e. multi-dimensional gridded da...   \n",
       "3    Raster data (i.e. multi-dimensional gridded da...   \n",
       "4    Raster data (i.e. multi-dimensional gridded da...   \n",
       "..                                                 ...   \n",
       "139  Raster data (i.e. multi-dimensional gridded da...   \n",
       "140  Raster data (i.e. multi-dimensional gridded da...   \n",
       "141  Raster data (i.e. multi-dimensional gridded da...   \n",
       "142  Raster data (i.e. multi-dimensional gridded da...   \n",
       "143                                                NaN   \n",
       "\n",
       "    Which of those data types do you most commonly work with?  \\\n",
       "0    Raster data (i.e. multi-dimensional gridded da...          \n",
       "1    Raster data (i.e. multi-dimensional gridded da...          \n",
       "2    Raster data (i.e. multi-dimensional gridded da...          \n",
       "3    Raster data (i.e. multi-dimensional gridded da...          \n",
       "4    Raster data (i.e. multi-dimensional gridded da...          \n",
       "..                                                 ...          \n",
       "139  Raster data (i.e. multi-dimensional gridded da...          \n",
       "140                                       Tabular data          \n",
       "141  Raster data (i.e. multi-dimensional gridded da...          \n",
       "142  Raster data (i.e. multi-dimensional gridded da...          \n",
       "143                                                NaN          \n",
       "\n",
       "        What file formats are your AOS data stored in?  \\\n",
       "0                    netCDF;Zarr;GeoTIFF;CSV;Shapefile   \n",
       "1                                      netCDF;Zarr;CSV   \n",
       "2                                           netCDF;CSV   \n",
       "3                                netCDF;Zarr;Shapefile   \n",
       "4                                           netCDF;CSV   \n",
       "..                                                 ...   \n",
       "139                                             netCDF   \n",
       "140  netCDF;GeoTIFF;CSV;GeoJSON;Shapefile;ESRI File...   \n",
       "141                                         netCDF;CSV   \n",
       "142  netCDF;Zarr;GRIB;HDF;GeoJSON;GeoPackage;Shapef...   \n",
       "143                                                NaN   \n",
       "\n",
       "    Which of those file formats do you most commonly work with?  \\\n",
       "0                                                 Zarr            \n",
       "1                                                 Zarr            \n",
       "2                                               netCDF            \n",
       "3                                                 Zarr            \n",
       "4                                               netCDF            \n",
       "..                                                 ...            \n",
       "139                                             netCDF            \n",
       "140                                                CSV            \n",
       "141                                             netCDF            \n",
       "142                                             netCDF            \n",
       "143                                                NaN            \n",
       "\n",
       "    What computing platforms do you use for your AOS data science?  \\\n",
       "0    Personal laptop/desktop;Supercomputer (e.g. ru...               \n",
       "1    Personal laptop/desktop;Supercomputer (e.g. ru...               \n",
       "2    Personal laptop/desktop;Supercomputer (e.g. ru...               \n",
       "3    Personal laptop/desktop;Supercomputer (e.g. ru...               \n",
       "4    Personal laptop/desktop;Supercomputer (e.g. ru...               \n",
       "..                                                 ...               \n",
       "139  Personal laptop/desktop;Supercomputer (e.g. ru...               \n",
       "140  Personal laptop/desktop;Supercomputer (e.g. ru...               \n",
       "141  Personal laptop/desktop;Supercomputer (e.g. ru...               \n",
       "142  Personal laptop/desktop;Supercomputer (e.g. ru...               \n",
       "143                                                NaN               \n",
       "\n",
       "    Which of those computing platforms do you most commonly work on for your AOS data science?  \\\n",
       "0    Supercomputer (e.g. run by your institution or...                                           \n",
       "1                     Cloud (e.g. Amazon Web Services)                                           \n",
       "2    Supercomputer (e.g. run by your institution or...                                           \n",
       "3    Supercomputer (e.g. run by your institution or...                                           \n",
       "4                              Personal laptop/desktop                                           \n",
       "..                                                 ...                                           \n",
       "139  Supercomputer (e.g. run by your institution or...                                           \n",
       "140                            Personal laptop/desktop                                           \n",
       "141                            Personal laptop/desktop                                           \n",
       "142                            Personal laptop/desktop                                           \n",
       "143                                                NaN                                           \n",
       "\n",
       "    What development environments do you regularly use for your Python coding?  \\\n",
       "0                                              Jupyter                           \n",
       "1                                         Jupyter;Atom                           \n",
       "2                                   Jupyter;Vim;bbedit                           \n",
       "3                                          Jupyter;Vim                           \n",
       "4                                 Jupyter;Sublime Text                           \n",
       "..                                                 ...                           \n",
       "139                                            Jupyter                           \n",
       "140                               PyCharm;Sublime Text                           \n",
       "141                                            Jupyter                           \n",
       "142                         Jupyter;PyCharm;Notepad ++                           \n",
       "143                                                NaN                           \n",
       "\n",
       "                               Recent Python libraries  \\\n",
       "0    #Pangeo toolset\\nimport xarray as xr\\nimport d...   \n",
       "1    from matplotlib import pyplot as plt\\nimport n...   \n",
       "2    import sys\\nimport os\\nimport pdb\\nimport argp...   \n",
       "3    import os\\nimport sys\\nimport glob\\nimport cft...   \n",
       "4    import warnings\\nimport numpy as np\\nimport ma...   \n",
       "..                                                 ...   \n",
       "139  import xarray as xr\\nimport numpy as np\\nimpor...   \n",
       "140  import argparse\\nimport base64\\nimport csv\\nim...   \n",
       "141  import cosima_cookbook as cc\\nfrom dask.distri...   \n",
       "142                                Import xarray as xr   \n",
       "143  import numpy as np\\nimport xarray as xr\\nimpor...   \n",
       "\n",
       "                                Other Python libraries  \\\n",
       "0                                                  NaN   \n",
       "1                                                  NaN   \n",
       "2                                                  NaN   \n",
       "3    import xrft\\nimport warnings\\nimport xskillsco...   \n",
       "4                                                  NaN   \n",
       "..                                                 ...   \n",
       "139                    I also use cartopy for mapping.   \n",
       "140                                                NaN   \n",
       "141                                                NaN   \n",
       "142                                                NaN   \n",
       "143                                                NaN   \n",
       "\n",
       "                    Anything else you'd like to share?  \n",
       "0                                                  NaN  \n",
       "1                                                  NaN  \n",
       "2                                                  NaN  \n",
       "3                                                  NaN  \n",
       "4                                                  NaN  \n",
       "..                                                 ...  \n",
       "139  Thank you for the opportunity and engaging the...  \n",
       "140                                                NaN  \n",
       "141  My biggest frustration with python is that the...  \n",
       "142                                                NaN  \n",
       "143                                                NaN  \n",
       "\n",
       "[144 rows x 20 columns]"
      ]
     },
     "execution_count": 3,
     "metadata": {},
     "output_type": "execute_result"
    }
   ],
   "source": [
    "main_df"
   ]
  },
  {
   "cell_type": "markdown",
   "metadata": {},
   "source": [
    "# Demographics"
   ]
  },
  {
   "cell_type": "markdown",
   "metadata": {},
   "source": [
    "### Age"
   ]
  },
  {
   "cell_type": "code",
   "execution_count": 4,
   "metadata": {},
   "outputs": [
    {
     "data": {
      "text/plain": [
       "30-39    60\n",
       "20-29    45\n",
       "40-49    23\n",
       "50-59    10\n",
       "60-69     4\n",
       "Name: Age, dtype: int64"
      ]
     },
     "execution_count": 4,
     "metadata": {},
     "output_type": "execute_result"
    }
   ],
   "source": [
    "main_df['Age'].value_counts()"
   ]
  },
  {
   "cell_type": "code",
   "execution_count": 5,
   "metadata": {},
   "outputs": [
    {
     "data": {
      "text/plain": [
       "0.7394366197183099"
      ]
     },
     "execution_count": 5,
     "metadata": {},
     "output_type": "execute_result"
    }
   ],
   "source": [
    "(60 + 45) / (60 + 45 + 23 + 10 + 4)"
   ]
  },
  {
   "cell_type": "code",
   "execution_count": 6,
   "metadata": {},
   "outputs": [
    {
     "data": {
      "text/plain": [
       "0.028169014084507043"
      ]
     },
     "execution_count": 6,
     "metadata": {},
     "output_type": "execute_result"
    }
   ],
   "source": [
    "4 / (60 + 45 + 23 + 10 + 4)"
   ]
  },
  {
   "cell_type": "code",
   "execution_count": 7,
   "metadata": {},
   "outputs": [
    {
     "data": {
      "image/png": "[encoded data removed]",
      "text/plain": [
       "<Figure size 432x288 with 1 Axes>"
      ]
     },
     "metadata": {
      "needs_background": "light"
     },
     "output_type": "display_data"
    }
   ],
   "source": [
    "ax = sns.countplot(x=\"Age\", data=main_df,\n",
    "                   order=['20-29', '30-39', '40-49', '50-59', '60-69'])\n",
    "ax.set_title('Age')\n",
    "plt.show()"
   ]
  },
  {
   "cell_type": "markdown",
   "metadata": {},
   "source": [
    "### Gender"
   ]
  },
  {
   "cell_type": "code",
   "execution_count": 8,
   "metadata": {},
   "outputs": [
    {
     "data": {
      "text/plain": [
       "Man           106\n",
       "Woman          35\n",
       "Non-binary      1\n",
       "Name: Gender: how do you identify?, dtype: int64"
      ]
     },
     "execution_count": 8,
     "metadata": {},
     "output_type": "execute_result"
    }
   ],
   "source": [
    "gender_counts = main_df['Gender: how do you identify?'].value_counts()\n",
    "gender_counts"
   ]
  },
  {
   "cell_type": "code",
   "execution_count": 9,
   "metadata": {},
   "outputs": [
    {
     "data": {
      "text/plain": [
       "0.007042253521126761"
      ]
     },
     "execution_count": 9,
     "metadata": {},
     "output_type": "execute_result"
    }
   ],
   "source": [
    "1 / (106 + 36)"
   ]
  },
  {
   "cell_type": "code",
   "execution_count": 10,
   "metadata": {},
   "outputs": [
    {
     "data": {
      "image/png": "[encoded data removed]",
      "text/plain": [
       "<Figure size 432x288 with 1 Axes>"
      ]
     },
     "metadata": {},
     "output_type": "display_data"
    }
   ],
   "source": [
    "ax = gender_counts.plot.pie()\n",
    "ax.set_title('Gender')\n",
    "ax.set_ylabel('')\n",
    "plt.show()"
   ]
  },
  {
   "cell_type": "markdown",
   "metadata": {},
   "source": [
    "### Career stage"
   ]
  },
  {
   "cell_type": "code",
   "execution_count": 11,
   "metadata": {},
   "outputs": [
    {
     "data": {
      "text/plain": [
       "Academic (more than 5 years post highest qualification)                   41\n",
       "Academic (within 5 years of highest qualification)                        30\n",
       "PhD student                                                               24\n",
       "Industry / Professional (more than 5 years post highest qualification)    17\n",
       "Industry / Professional (within 5 years of highest qualification)         13\n",
       "Undergraduate student                                                     11\n",
       "Masters student                                                            5\n",
       "Name: Career stage, dtype: int64"
      ]
     },
     "execution_count": 11,
     "metadata": {},
     "output_type": "execute_result"
    }
   ],
   "source": [
    "main_df['Career stage'].value_counts()"
   ]
  },
  {
   "cell_type": "markdown",
   "metadata": {},
   "source": [
    "### Primary AOS discipline/s"
   ]
  },
  {
   "cell_type": "code",
   "execution_count": 12,
   "metadata": {},
   "outputs": [
    {
     "data": {
      "text/plain": [
       "142"
      ]
     },
     "execution_count": 12,
     "metadata": {},
     "output_type": "execute_result"
    }
   ],
   "source": [
    "discipline_df['Participant'].nunique()"
   ]
  },
  {
   "cell_type": "code",
   "execution_count": 13,
   "metadata": {},
   "outputs": [
    {
     "data": {
      "text/plain": [
       "Meteorology                                     38.028169\n",
       "Modelling                                       37.323944\n",
       "Physical Oceanography                           34.507042\n",
       "Atmospheric Dynamics                            33.802817\n",
       "Climate Change Processes                        20.422535\n",
       "Climatology (excl. Climate Change Processes)    19.718310\n",
       "AOS Research Software Engineer                  14.788732\n",
       "Cloud Physics                                   12.676056\n",
       "AOS Research Computing Support                   9.859155\n",
       "Atmospheric Radiation                            8.450704\n",
       "Biological Oceanography                          7.746479\n",
       "Chemical Oceanography                            6.338028\n",
       "Tropospheric and Stratospheric Physics           5.633803\n",
       "Atmospheric Aerosols                             3.521127\n",
       "Atmospheric Chemistry                            3.521127\n",
       "Paleoclimatology                                 1.408451\n",
       "Remote Sensing                                   0.704225\n",
       "Name: Primary AOS discipline/s, dtype: float64"
      ]
     },
     "execution_count": 13,
     "metadata": {},
     "output_type": "execute_result"
    }
   ],
   "source": [
    "(discipline_df['Primary AOS discipline/s'].value_counts() / discipline_df['Participant'].nunique()) * 100"
   ]
  },
  {
   "cell_type": "code",
   "execution_count": 14,
   "metadata": {},
   "outputs": [
    {
     "data": {
      "text/plain": [
       "Meteorology                                     54\n",
       "Modelling                                       53\n",
       "Physical Oceanography                           49\n",
       "Atmospheric Dynamics                            48\n",
       "Climate Change Processes                        29\n",
       "Climatology (excl. Climate Change Processes)    28\n",
       "AOS Research Software Engineer                  21\n",
       "Cloud Physics                                   18\n",
       "AOS Research Computing Support                  14\n",
       "Atmospheric Radiation                           12\n",
       "Biological Oceanography                         11\n",
       "Chemical Oceanography                            9\n",
       "Tropospheric and Stratospheric Physics           8\n",
       "Atmospheric Aerosols                             5\n",
       "Atmospheric Chemistry                            5\n",
       "Paleoclimatology                                 2\n",
       "Remote Sensing                                   1\n",
       "Name: Primary AOS discipline/s, dtype: int64"
      ]
     },
     "execution_count": 14,
     "metadata": {},
     "output_type": "execute_result"
    }
   ],
   "source": [
    "discipline_df['Primary AOS discipline/s'].value_counts()"
   ]
  },
  {
   "cell_type": "code",
   "execution_count": 23,
   "metadata": {},
   "outputs": [
    {
     "data": {
      "image/png": "[encoded data removed]",
      "text/plain": [
       "<Figure size 432x288 with 1 Axes>"
      ]
     },
     "metadata": {
      "needs_background": "light"
     },
     "output_type": "display_data"
    }
   ],
   "source": [
    "order = ['Meteorology',\n",
    "         'Atmospheric Aerosols',\n",
    "         'Atmospheric Chemistry',\n",
    "         'Atmospheric Dynamics',\n",
    "         'Atmospheric Radiation',\n",
    "         'Cloud Physics',\n",
    "         'Tropospheric and Stratospheric Physics',\n",
    "         'Planetary Atmospheres',\n",
    "         'Climate Change Processes',\n",
    "         'Climatology (excl. Climate Change Processes)',\n",
    "         'Paleoclimatology',\n",
    "         'Physical Oceanography',\n",
    "         'Biological Oceanography',\n",
    "         'Chemical Oceanography',\n",
    "         'Modelling',\n",
    "         'Remote sensing',\n",
    "         'AOS Research Software Engineer',\n",
    "         'AOS Research Computing Support'\n",
    "        ]\n",
    "\n",
    "ax = sns.countplot(y=\"Primary AOS discipline/s\", data=discipline_df, order=order)\n",
    "ax.set_title('Primary discipline')\n",
    "plt.ylabel('')\n",
    "plt.savefig('discipline.png', bbox_inches='tight', facecolor='white', dpi=300)"
   ]
  },
  {
   "cell_type": "markdown",
   "metadata": {},
   "source": [
    "### Country of residence"
   ]
  },
  {
   "cell_type": "code",
   "execution_count": 19,
   "metadata": {},
   "outputs": [
    {
     "data": {
      "text/plain": [
       "United States    82\n",
       "Australia        23\n",
       "Great Britain     9\n",
       "India             5\n",
       "Brazil            3\n",
       "Sweden            2\n",
       "China             2\n",
       "South Korea       1\n",
       "Netherlands       1\n",
       "Germany           1\n",
       "New Zealand       1\n",
       "Spain             1\n",
       "Austria           1\n",
       "Canada            1\n",
       "Chile             1\n",
       "Finland           1\n",
       "Taiwan            1\n",
       "Name: Country of residence, dtype: int64"
      ]
     },
     "execution_count": 19,
     "metadata": {},
     "output_type": "execute_result"
    }
   ],
   "source": [
    "countries = {'US': 'United States',\n",
    "             'AU': 'Australia',\n",
    "             'GB': 'Great Britain',\n",
    "             'IN': 'India',\n",
    "             'BR': 'Brazil',\n",
    "             'CN': 'China',\n",
    "             'SE': 'Sweden',\n",
    "             'NL': 'Netherlands',\n",
    "             'NZ': 'New Zealand',\n",
    "             'CA': 'Canada',\n",
    "             'DE': 'Germany',\n",
    "             'KR': 'South Korea',\n",
    "             'TW': 'Taiwan',\n",
    "             'CL': 'Chile',\n",
    "             'FI': 'Finland',\n",
    "             'ES': 'Spain',\n",
    "             'AT': 'Austria',\n",
    "            }\n",
    "\n",
    "main_df['Country of residence'] = main_df['Country of residence'].str.strip()\n",
    "main_df['Country of residence'] = main_df['Country of residence'].map(countries)\n",
    "main_df['Country of residence'].value_counts()"
   ]
  },
  {
   "cell_type": "markdown",
   "metadata": {},
   "source": [
    "# Python usage"
   ]
  },
  {
   "cell_type": "markdown",
   "metadata": {},
   "source": [
    "### How long have you been using Python?"
   ]
  },
  {
   "cell_type": "code",
   "execution_count": 20,
   "metadata": {},
   "outputs": [
    {
     "data": {
      "text/plain": [
       "2-5 years             54\n",
       "6-10 years            42\n",
       "More than 10 years    21\n",
       "Less than 1 year      16\n",
       "1-2 years             10\n",
       "Name: How long have you been using Python?, dtype: int64"
      ]
     },
     "execution_count": 20,
     "metadata": {},
     "output_type": "execute_result"
    }
   ],
   "source": [
    "main_df['How long have you been using Python?'].value_counts()"
   ]
  },
  {
   "cell_type": "code",
   "execution_count": 22,
   "metadata": {},
   "outputs": [
    {
     "data": {
      "image/png": "[encoded data removed]",
      "text/plain": [
       "<Figure size 432x288 with 1 Axes>"
      ]
     },
     "metadata": {
      "needs_background": "light"
     },
     "output_type": "display_data"
    }
   ],
   "source": [
    "ax = sns.countplot(x='How long have you been using Python?', data=main_df,\n",
    "                   order=['Less than 1 year', '1-2 years', '2-5 years',\n",
    "                          '6-10 years', 'More than 10 years'])\n",
    "plt.xticks(rotation=45)\n",
    "ax.set_title('How long have you been using Python?')\n",
    "plt.xlabel('')\n",
    "plt.savefig('duration.png', bbox_inches='tight', facecolor='white', dpi=300)"
   ]
  },
  {
   "cell_type": "markdown",
   "metadata": {},
   "source": [
    "### How have you learned Python?"
   ]
  },
  {
   "cell_type": "code",
   "execution_count": 24,
   "metadata": {},
   "outputs": [],
   "source": [
    "nparticipants = len(main_df['How have you learned Python?'])\n",
    "no_answer = main_df['How have you learned Python?'].isnull().sum()\n",
    "n_answers = nparticipants - no_answer"
   ]
  },
  {
   "cell_type": "code",
   "execution_count": 25,
   "metadata": {},
   "outputs": [
    {
     "data": {
      "text/plain": [
       "144"
      ]
     },
     "execution_count": 25,
     "metadata": {},
     "output_type": "execute_result"
    }
   ],
   "source": [
    "nparticipants"
   ]
  },
  {
   "cell_type": "code",
   "execution_count": 26,
   "metadata": {},
   "outputs": [
    {
     "data": {
      "text/plain": [
       "142"
      ]
     },
     "execution_count": 26,
     "metadata": {},
     "output_type": "execute_result"
    }
   ],
   "source": [
    "n_answers"
   ]
  },
  {
   "cell_type": "code",
   "execution_count": 27,
   "metadata": {},
   "outputs": [
    {
     "data": {
      "text/plain": [
       "Self taught (from textbooks, online tutorials, etc)                  128\n",
       "Workshop/s (e.g. Carpentries, Unidata)                                42\n",
       "University semester course/s (e.g. \"Introduction to Programming\")     27\n",
       "University degree (e.g. Bachelor of Software Engineering)              8\n",
       "Name: How have you learned Python?, dtype: int64"
      ]
     },
     "execution_count": 27,
     "metadata": {},
     "output_type": "execute_result"
    }
   ],
   "source": [
    "learning_df['How have you learned Python?'].value_counts()"
   ]
  },
  {
   "cell_type": "code",
   "execution_count": 28,
   "metadata": {},
   "outputs": [],
   "source": [
    "pct_learning = (learning_df['How have you learned Python?'].value_counts() / n_answers) * 100"
   ]
  },
  {
   "cell_type": "code",
   "execution_count": 29,
   "metadata": {},
   "outputs": [
    {
     "data": {
      "text/plain": [
       "Self taught (from textbooks, online tutorials, etc)                  90.140845\n",
       "Workshop/s (e.g. Carpentries, Unidata)                               29.577465\n",
       "University semester course/s (e.g. \"Introduction to Programming\")    19.014085\n",
       "University degree (e.g. Bachelor of Software Engineering)             5.633803\n",
       "Name: How have you learned Python?, dtype: float64"
      ]
     },
     "execution_count": 29,
     "metadata": {},
     "output_type": "execute_result"
    }
   ],
   "source": [
    "pct_learning"
   ]
  },
  {
   "cell_type": "markdown",
   "metadata": {},
   "source": [
    "TODO: See if the results differ > 5 years post highest degree and < 5 years."
   ]
  },
  {
   "cell_type": "markdown",
   "metadata": {},
   "source": [
    "# Data"
   ]
  },
  {
   "cell_type": "markdown",
   "metadata": {},
   "source": [
    "### What types of AOS data do you work with?"
   ]
  },
  {
   "cell_type": "code",
   "execution_count": 30,
   "metadata": {},
   "outputs": [
    {
     "data": {
      "text/plain": [
       "140"
      ]
     },
     "execution_count": 30,
     "metadata": {},
     "output_type": "execute_result"
    }
   ],
   "source": [
    "nparticipants = len(main_df['What types of AOS data do you work with?'])\n",
    "no_answer = main_df['What types of AOS data do you work with?'].isnull().sum()\n",
    "n_answers = nparticipants - no_answer\n",
    "n_answers"
   ]
  },
  {
   "cell_type": "code",
   "execution_count": 31,
   "metadata": {},
   "outputs": [
    {
     "data": {
      "text/plain": [
       "Raster data (i.e. multi-dimensional gridded data such as a regular time/latitude/longitude/depth grid)       97.857143\n",
       "Tabular data                                                                                                 61.428571\n",
       "Vector data (i.e. discrete geometric locations that define the shape of a spatial point, line or polygon)    50.000000\n",
       "Name: What types of AOS data do you work with?, dtype: float64"
      ]
     },
     "execution_count": 31,
     "metadata": {},
     "output_type": "execute_result"
    }
   ],
   "source": [
    "pct_data = (data_df['What types of AOS data do you work with?'].value_counts() / n_answers) * 100\n",
    "pct_data"
   ]
  },
  {
   "cell_type": "code",
   "execution_count": 32,
   "metadata": {},
   "outputs": [
    {
     "data": {
      "text/plain": [
       "Raster data (i.e. multi-dimensional gridded data such as a regular time/latitude/longitude/depth grid)       137\n",
       "Tabular data                                                                                                  86\n",
       "Vector data (i.e. discrete geometric locations that define the shape of a spatial point, line or polygon)     70\n",
       "Name: What types of AOS data do you work with?, dtype: int64"
      ]
     },
     "execution_count": 32,
     "metadata": {},
     "output_type": "execute_result"
    }
   ],
   "source": [
    "data_df['What types of AOS data do you work with?'].value_counts()"
   ]
  },
  {
   "cell_type": "markdown",
   "metadata": {},
   "source": [
    "### Which of those data types do you most commonly work with?"
   ]
  },
  {
   "cell_type": "code",
   "execution_count": 33,
   "metadata": {},
   "outputs": [
    {
     "data": {
      "text/plain": [
       "Raster data     109\n",
       "Tabular data     21\n",
       "Vector data       6\n",
       "Name: Which of those data types do you most commonly work with?, dtype: int64"
      ]
     },
     "execution_count": 33,
     "metadata": {},
     "output_type": "execute_result"
    }
   ],
   "source": [
    "data_counts = main_df['Which of those data types do you most commonly work with?'].str[0:12].value_counts()\n",
    "data_counts"
   ]
  },
  {
   "cell_type": "code",
   "execution_count": 34,
   "metadata": {},
   "outputs": [
    {
     "data": {
      "text/plain": [
       "0.04411764705882353"
      ]
     },
     "execution_count": 34,
     "metadata": {},
     "output_type": "execute_result"
    }
   ],
   "source": [
    "6 / (109 + 21 + 6)"
   ]
  },
  {
   "cell_type": "code",
   "execution_count": 36,
   "metadata": {},
   "outputs": [
    {
     "data": {
      "image/png": "[encoded data removed]",
      "text/plain": [
       "<Figure size 432x288 with 1 Axes>"
      ]
     },
     "metadata": {},
     "output_type": "display_data"
    }
   ],
   "source": [
    "ax = data_counts.plot.pie()\n",
    "ax.set_title('Which data type do you most commonly work with?')\n",
    "ax.set_ylabel('')\n",
    "plt.savefig('data_type.png', bbox_inches='tight', facecolor='white', dpi=300)"
   ]
  },
  {
   "cell_type": "markdown",
   "metadata": {},
   "source": [
    "### What file formats are your AOS data stored in?"
   ]
  },
  {
   "cell_type": "code",
   "execution_count": 37,
   "metadata": {},
   "outputs": [
    {
     "data": {
      "text/plain": [
       "netCDF                    141\n",
       "CSV                        92\n",
       "GRIB                       49\n",
       "Shapefile                  41\n",
       "HDF                        40\n",
       "Zarr                       37\n",
       "GeoTIFF                    33\n",
       "GeoJSON                    21\n",
       "A custom binary format     18\n",
       "GeoPackage                  5\n",
       "ESRI File Geodatabase       3\n",
       "ICARTT                      3\n",
       "Plain text (ASCII)          2\n",
       "SQL                         2\n",
       "Audio                       1\n",
       "Relational Database         1\n",
       "MAT                         1\n",
       "JSON                        1\n",
       "GeoParquet                  1\n",
       "Video                       1\n",
       "SQLite                      1\n",
       "NPY                         1\n",
       "Images                      1\n",
       "Name: What file formats are your AOS data stored in?, dtype: int64"
      ]
     },
     "execution_count": 37,
     "metadata": {},
     "output_type": "execute_result"
    }
   ],
   "source": [
    "format_df['What file formats are your AOS data stored in?'].value_counts()"
   ]
  },
  {
   "cell_type": "code",
   "execution_count": 38,
   "metadata": {},
   "outputs": [
    {
     "data": {
      "text/plain": [
       "142"
      ]
     },
     "execution_count": 38,
     "metadata": {},
     "output_type": "execute_result"
    }
   ],
   "source": [
    "nrespondents = format_df['Participant'].nunique()\n",
    "nrespondents"
   ]
  },
  {
   "cell_type": "code",
   "execution_count": 39,
   "metadata": {},
   "outputs": [
    {
     "data": {
      "text/plain": [
       "netCDF                    99.295775\n",
       "CSV                       64.788732\n",
       "GRIB                      34.507042\n",
       "Shapefile                 28.873239\n",
       "HDF                       28.169014\n",
       "Zarr                      26.056338\n",
       "GeoTIFF                   23.239437\n",
       "GeoJSON                   14.788732\n",
       "A custom binary format    12.676056\n",
       "GeoPackage                 3.521127\n",
       "ESRI File Geodatabase      2.112676\n",
       "ICARTT                     2.112676\n",
       "Plain text (ASCII)         1.408451\n",
       "SQL                        1.408451\n",
       "Audio                      0.704225\n",
       "Relational Database        0.704225\n",
       "MAT                        0.704225\n",
       "JSON                       0.704225\n",
       "GeoParquet                 0.704225\n",
       "Video                      0.704225\n",
       "SQLite                     0.704225\n",
       "NPY                        0.704225\n",
       "Images                     0.704225\n",
       "Name: What file formats are your AOS data stored in?, dtype: float64"
      ]
     },
     "execution_count": 39,
     "metadata": {},
     "output_type": "execute_result"
    }
   ],
   "source": [
    "(format_df['What file formats are your AOS data stored in?'].value_counts() / nrespondents) * 100"
   ]
  },
  {
   "cell_type": "code",
   "execution_count": 40,
   "metadata": {},
   "outputs": [
    {
     "data": {
      "text/plain": [
       "netCDF          100\n",
       "CSV              14\n",
       "Zarr             11\n",
       "GRIB              7\n",
       "Shapefile         3\n",
       "HDF               2\n",
       "ICARTT            1\n",
       "Json              1\n",
       "A custom bin      1\n",
       "GeoJSON           1\n",
       "Name: Which of those file formats do you most commonly work with?, dtype: int64"
      ]
     },
     "execution_count": 40,
     "metadata": {},
     "output_type": "execute_result"
    }
   ],
   "source": [
    "format_counts = main_df['Which of those file formats do you most commonly work with?'].str[0:12].value_counts()\n",
    "format_counts"
   ]
  },
  {
   "cell_type": "code",
   "execution_count": 41,
   "metadata": {},
   "outputs": [
    {
     "data": {
      "text/plain": [
       "netCDF          70.422535\n",
       "CSV              9.859155\n",
       "Zarr             7.746479\n",
       "GRIB             4.929577\n",
       "Shapefile        2.112676\n",
       "HDF              1.408451\n",
       "ICARTT           0.704225\n",
       "Json             0.704225\n",
       "A custom bin     0.704225\n",
       "GeoJSON          0.704225\n",
       "Name: Which of those file formats do you most commonly work with?, dtype: float64"
      ]
     },
     "execution_count": 41,
     "metadata": {},
     "output_type": "execute_result"
    }
   ],
   "source": [
    "(format_counts / nrespondents) * 100"
   ]
  },
  {
   "cell_type": "markdown",
   "metadata": {},
   "source": [
    "# Platform"
   ]
  },
  {
   "cell_type": "markdown",
   "metadata": {},
   "source": [
    "## Computer"
   ]
  },
  {
   "cell_type": "code",
   "execution_count": 43,
   "metadata": {},
   "outputs": [
    {
     "data": {
      "text/plain": [
       "Personal laptop/desktop                                                128\n",
       "Supercomputer (e.g. run by your institution or a national facility)     91\n",
       "Cloud (e.g. Amazon Web Services)                                        45\n",
       "Local server (e.g. provided by your department)                          6\n",
       "Name: What computing platforms do you use for your AOS data science?, dtype: int64"
      ]
     },
     "execution_count": 43,
     "metadata": {},
     "output_type": "execute_result"
    }
   ],
   "source": [
    "platform_df['What computing platforms do you use for your AOS data science?'].value_counts()"
   ]
  },
  {
   "cell_type": "code",
   "execution_count": 44,
   "metadata": {},
   "outputs": [
    {
     "data": {
      "text/plain": [
       "142"
      ]
     },
     "execution_count": 44,
     "metadata": {},
     "output_type": "execute_result"
    }
   ],
   "source": [
    "nrespondents = platform_df['Participant'].nunique()\n",
    "nrespondents"
   ]
  },
  {
   "cell_type": "code",
   "execution_count": 45,
   "metadata": {},
   "outputs": [
    {
     "data": {
      "text/plain": [
       "Personal laptop/desktop                                                90.140845\n",
       "Supercomputer (e.g. run by your institution or a national facility)    64.084507\n",
       "Cloud (e.g. Amazon Web Services)                                       31.690141\n",
       "Local server (e.g. provided by your department)                         4.225352\n",
       "Name: What computing platforms do you use for your AOS data science?, dtype: float64"
      ]
     },
     "execution_count": 45,
     "metadata": {},
     "output_type": "execute_result"
    }
   ],
   "source": [
    "(platform_df['What computing platforms do you use for your AOS data science?'].value_counts() / nrespondents) * 100"
   ]
  },
  {
   "cell_type": "code",
   "execution_count": 46,
   "metadata": {},
   "outputs": [],
   "source": [
    "def clean_platform(platform):\n",
    "    return platform.split(' (')[0]"
   ]
  },
  {
   "cell_type": "code",
   "execution_count": 47,
   "metadata": {},
   "outputs": [],
   "source": [
    "platforms = main_df['Which of those computing platforms do you most commonly work on for your AOS data science?'].dropna().apply(clean_platform)\n"
   ]
  },
  {
   "cell_type": "code",
   "execution_count": 48,
   "metadata": {},
   "outputs": [
    {
     "data": {
      "text/plain": [
       "Personal laptop/desktop    81\n",
       "Supercomputer              46\n",
       "Cloud                       8\n",
       "Local server                3\n",
       "Name: Which of those computing platforms do you most commonly work on for your AOS data science?, dtype: int64"
      ]
     },
     "execution_count": 48,
     "metadata": {},
     "output_type": "execute_result"
    }
   ],
   "source": [
    "platform_counts = platforms.value_counts()\n",
    "platform_counts"
   ]
  },
  {
   "cell_type": "code",
   "execution_count": 49,
   "metadata": {},
   "outputs": [
    {
     "data": {
      "text/plain": [
       "Personal laptop/desktop    57.042254\n",
       "Supercomputer              32.394366\n",
       "Cloud                       5.633803\n",
       "Local server                2.112676\n",
       "Name: Which of those computing platforms do you most commonly work on for your AOS data science?, dtype: float64"
      ]
     },
     "execution_count": 49,
     "metadata": {},
     "output_type": "execute_result"
    }
   ],
   "source": [
    "(platform_counts / nrespondents) * 100"
   ]
  },
  {
   "cell_type": "code",
   "execution_count": 50,
   "metadata": {},
   "outputs": [
    {
     "data": {
      "image/png": "[encoded data removed]",
      "text/plain": [
       "<Figure size 432x288 with 1 Axes>"
      ]
     },
     "metadata": {},
     "output_type": "display_data"
    }
   ],
   "source": [
    "ax = platform_counts.plot.pie()\n",
    "ax.set_title('Which platform do you most commonly work on?')\n",
    "ax.set_ylabel('')\n",
    "plt.savefig('platform.png', bbox_inches='tight', facecolor='white', dpi=300)"
   ]
  },
  {
   "cell_type": "markdown",
   "metadata": {},
   "source": [
    "## Development environment"
   ]
  },
  {
   "cell_type": "markdown",
   "metadata": {},
   "source": [
    "37 people nominated Juptyer and nothing else (i.e. about a quarter of people)."
   ]
  },
  {
   "cell_type": "code",
   "execution_count": 51,
   "metadata": {},
   "outputs": [
    {
     "data": {
      "text/plain": [
       "Jupyter         118\n",
       "Vim              50\n",
       "VSCode           24\n",
       "Spyder           22\n",
       "PyCharm          19\n",
       "Atom             10\n",
       "Sublime Text      9\n",
       "Notepad ++        7\n",
       "Emacs             6\n",
       "bbedit            1\n",
       "gedit             1\n",
       "Google Colab      1\n",
       "Name: What development environments do you regularly use for your Python coding?, dtype: int64"
      ]
     },
     "execution_count": 51,
     "metadata": {},
     "output_type": "execute_result"
    }
   ],
   "source": [
    "environment_df['What development environments do you regularly use for your Python coding?'].value_counts()"
   ]
  },
  {
   "cell_type": "code",
   "execution_count": 52,
   "metadata": {},
   "outputs": [
    {
     "data": {
      "text/plain": [
       "141"
      ]
     },
     "execution_count": 52,
     "metadata": {},
     "output_type": "execute_result"
    }
   ],
   "source": [
    "nrespondents = environment_df['Participant'].nunique()\n",
    "nrespondents"
   ]
  },
  {
   "cell_type": "code",
   "execution_count": 53,
   "metadata": {},
   "outputs": [
    {
     "data": {
      "text/plain": [
       "Jupyter         83.687943\n",
       "Vim             35.460993\n",
       "VSCode          17.021277\n",
       "Spyder          15.602837\n",
       "PyCharm         13.475177\n",
       "Atom             7.092199\n",
       "Sublime Text     6.382979\n",
       "Notepad ++       4.964539\n",
       "Emacs            4.255319\n",
       "bbedit           0.709220\n",
       "gedit            0.709220\n",
       "Google Colab     0.709220\n",
       "Name: What development environments do you regularly use for your Python coding?, dtype: float64"
      ]
     },
     "execution_count": 53,
     "metadata": {},
     "output_type": "execute_result"
    }
   ],
   "source": [
    "(environment_df['What development environments do you regularly use for your Python coding?'].value_counts() / nrespondents) * 100"
   ]
  },
  {
   "cell_type": "markdown",
   "metadata": {},
   "source": [
    "# Libraries"
   ]
  },
  {
   "cell_type": "code",
   "execution_count": 90,
   "metadata": {},
   "outputs": [],
   "source": [
    "categories = {'core': ['cartopy', 'dask', 'matplotlib', 'numpy', 'xarray', 'iris', 'cdutil', 'MV2', 'cdms2'],\n",
    "              'remote': ['erddapy', 'pydap', 'siphon'],\n",
    "              'geospatial': ['pyproj', 'shapely'],\n",
    "              'files': ['fiona', 'h5py', 'pygrib', 'pyshp', 'netcdf4', 'rasterio', 'zarr', 'shapefile'],\n",
    "              'AOS utilities': ['eofs', 'glidertools', 'gsw', 'metpy', 'pyart', 'windspharm', 'cmocean'],\n",
    "              'CF utilities': ['cfgrib', 'cftime', 'cf_units', 'nc_time_axis'],\n",
    "              'plotting': ['seaborn', 'hvplot', 'holoviews', 'geoviews', 'bokeh', 'plotly', 'proplot', 'pylab'],\n",
    "              'data science': ['intake', 'skimage', 'sklearn', 'sparse', 'descartes',\n",
    "                               'statsmodels', 'scipy', 'geopandas', 'pandas', 'numba', 'pyresample'],\n",
    "              'miscellaneous': ['dash', 'dateutil', 'fsspec', 'gcsfs', 'mpi4py', 'psycopg2', 'pytz',\n",
    "                                'yaml', 'lxml', 'requests', 'sqalchemy', 'tqdm', 'rechunker', 'joblib'],\n",
    "              'xarray extensions': ['xrft', 'xgcm', 'xesmf', 'xhistogram', 'regionmask'],\n",
    "              'standard library': ['argparse',\n",
    "                                   'calendar',\n",
    "                                   'collections',\n",
    "                                   'csv',\n",
    "                                   'copy',\n",
    "                                   'ctypes',\n",
    "                                   'dataclasses',\n",
    "                                   'datetime',\n",
    "                                   'fileinput',\n",
    "                                   'fnmatch',\n",
    "                                   'gc',\n",
    "                                   'getopt',\n",
    "                                   'glob',\n",
    "                                   'gzip',\n",
    "                                   'importlib',\n",
    "                                   'io',\n",
    "                                   'itertools',\n",
    "                                   'json',\n",
    "                                   'logging',\n",
    "                                   'math',\n",
    "                                   'multiprocessing',\n",
    "                                   'pathlib',\n",
    "                                   'pdb',\n",
    "                                   'pickle',\n",
    "                                   'os',\n",
    "                                   'select',\n",
    "                                   'shutil',\n",
    "                                   'socket',\n",
    "                                   'string',\n",
    "                                   'subprocess',\n",
    "                                   'sys',\n",
    "                                   're',\n",
    "                                   'tempfile',\n",
    "                                   'time',\n",
    "                                   'unittest',\n",
    "                                   'urllib',\n",
    "                                   'uuid',\n",
    "                                   'warnings',\n",
    "                                   ]\n",
    "             }\n",
    "              "
   ]
  },
  {
   "cell_type": "code",
   "execution_count": 91,
   "metadata": {},
   "outputs": [],
   "source": [
    "def pick_category(library):\n",
    "    \"\"\"Pick category for a given library.\"\"\"\n",
    "    \n",
    "    selection = 'uncategorised'\n",
    "    for category, libraries in categories.items():\n",
    "        if library in libraries:\n",
    "            selection = category\n",
    "            break\n",
    "    \n",
    "    return selection"
   ]
  },
  {
   "cell_type": "code",
   "execution_count": 92,
   "metadata": {},
   "outputs": [
    {
     "data": {
      "text/html": [
       "<div>\n",
       "<style scoped>\n",
       "    .dataframe tbody tr th:only-of-type {\n",
       "        vertical-align: middle;\n",
       "    }\n",
       "\n",
       "    .dataframe tbody tr th {\n",
       "        vertical-align: top;\n",
       "    }\n",
       "\n",
       "    .dataframe thead th {\n",
       "        text-align: right;\n",
       "    }\n",
       "</style>\n",
       "<table border=\"1\" class=\"dataframe\">\n",
       "  <thead>\n",
       "    <tr style=\"text-align: right;\">\n",
       "      <th></th>\n",
       "      <th>participant</th>\n",
       "      <th>libraries</th>\n",
       "      <th>category</th>\n",
       "    </tr>\n",
       "  </thead>\n",
       "  <tbody>\n",
       "    <tr>\n",
       "      <th>0</th>\n",
       "      <td>1</td>\n",
       "      <td>cartopy</td>\n",
       "      <td>core</td>\n",
       "    </tr>\n",
       "    <tr>\n",
       "      <th>1</th>\n",
       "      <td>1</td>\n",
       "      <td>cmocean</td>\n",
       "      <td>AOS utilities</td>\n",
       "    </tr>\n",
       "    <tr>\n",
       "      <th>2</th>\n",
       "      <td>1</td>\n",
       "      <td>copy</td>\n",
       "      <td>standard library</td>\n",
       "    </tr>\n",
       "    <tr>\n",
       "      <th>3</th>\n",
       "      <td>1</td>\n",
       "      <td>importlib</td>\n",
       "      <td>standard library</td>\n",
       "    </tr>\n",
       "    <tr>\n",
       "      <th>4</th>\n",
       "      <td>1</td>\n",
       "      <td>math</td>\n",
       "      <td>standard library</td>\n",
       "    </tr>\n",
       "    <tr>\n",
       "      <th>...</th>\n",
       "      <td>...</td>\n",
       "      <td>...</td>\n",
       "      <td>...</td>\n",
       "    </tr>\n",
       "    <tr>\n",
       "      <th>1345</th>\n",
       "      <td>144</td>\n",
       "      <td>numpy</td>\n",
       "      <td>core</td>\n",
       "    </tr>\n",
       "    <tr>\n",
       "      <th>1346</th>\n",
       "      <td>144</td>\n",
       "      <td>xarray</td>\n",
       "      <td>core</td>\n",
       "    </tr>\n",
       "    <tr>\n",
       "      <th>1347</th>\n",
       "      <td>144</td>\n",
       "      <td>cartopy</td>\n",
       "      <td>core</td>\n",
       "    </tr>\n",
       "    <tr>\n",
       "      <th>1348</th>\n",
       "      <td>144</td>\n",
       "      <td>matplotlib</td>\n",
       "      <td>core</td>\n",
       "    </tr>\n",
       "    <tr>\n",
       "      <th>1349</th>\n",
       "      <td>144</td>\n",
       "      <td>cmaps</td>\n",
       "      <td>uncategorised</td>\n",
       "    </tr>\n",
       "  </tbody>\n",
       "</table>\n",
       "<p>1350 rows × 3 columns</p>\n",
       "</div>"
      ],
      "text/plain": [
       "      participant   libraries          category\n",
       "0               1     cartopy              core\n",
       "1               1     cmocean     AOS utilities\n",
       "2               1        copy  standard library\n",
       "3               1   importlib  standard library\n",
       "4               1        math  standard library\n",
       "...           ...         ...               ...\n",
       "1345          144       numpy              core\n",
       "1346          144      xarray              core\n",
       "1347          144     cartopy              core\n",
       "1348          144  matplotlib              core\n",
       "1349          144       cmaps     uncategorised\n",
       "\n",
       "[1350 rows x 3 columns]"
      ]
     },
     "execution_count": 92,
     "metadata": {},
     "output_type": "execute_result"
    }
   ],
   "source": [
    "library_df = pd.read_csv('libraries.csv')\n",
    "library_df['category'] = library_df['libraries'].apply(pick_category)\n",
    "library_df"
   ]
  },
  {
   "cell_type": "code",
   "execution_count": 63,
   "metadata": {},
   "outputs": [
    {
     "data": {
      "text/plain": [
       "140"
      ]
     },
     "execution_count": 63,
     "metadata": {},
     "output_type": "execute_result"
    }
   ],
   "source": [
    "nrespondents = library_df['participant'].nunique()\n",
    "nrespondents"
   ]
  },
  {
   "cell_type": "code",
   "execution_count": 93,
   "metadata": {},
   "outputs": [],
   "source": [
    "library_counts = library_df['libraries'].value_counts()"
   ]
  },
  {
   "cell_type": "code",
   "execution_count": 94,
   "metadata": {},
   "outputs": [
    {
     "data": {
      "text/plain": [
       "numpy           120\n",
       "matplotlib      111\n",
       "xarray           97\n",
       "pandas           73\n",
       "cartopy          70\n",
       "scipy            53\n",
       "datetime         49\n",
       "os               47\n",
       "sys              37\n",
       "netcdf4          35\n",
       "glob             28\n",
       "dask             27\n",
       "cmocean          22\n",
       "metpy            20\n",
       "seaborn          16\n",
       "pathlib          14\n",
       "re               13\n",
       "math             12\n",
       "mpl_toolkits     12\n",
       "xgcm             11\n",
       "warnings         11\n",
       "shapely          11\n",
       "requests         11\n",
       "geopandas        10\n",
       "sklearn          10\n",
       "copy             10\n",
       "time              9\n",
       "csv               8\n",
       "intake            8\n",
       "argparse          8\n",
       "siphon            8\n",
       "shutil            8\n",
       "pickle            8\n",
       "xesmf             8\n",
       "subprocess        7\n",
       "pyart             7\n",
       "collections       7\n",
       "statsmodels       7\n",
       "urllib            6\n",
       "json              6\n",
       "numba             5\n",
       "xrft              5\n",
       "tqdm              5\n",
       "iris              5\n",
       "pytz              5\n",
       "cftime            4\n",
       "zarr              4\n",
       "logging           4\n",
       "pygrib            4\n",
       "gsw               4\n",
       "h5py              4\n",
       "gzip              4\n",
       "Name: libraries, dtype: int64"
      ]
     },
     "execution_count": 94,
     "metadata": {},
     "output_type": "execute_result"
    }
   ],
   "source": [
    "library_counts[0:52]"
   ]
  },
  {
   "cell_type": "code",
   "execution_count": 95,
   "metadata": {},
   "outputs": [
    {
     "data": {
      "text/plain": [
       "eofs               3\n",
       "glidertools        3\n",
       "string             3\n",
       "psycopg2           3\n",
       "importlib          3\n",
       "itertools          3\n",
       "cf_units           3\n",
       "pydap              3\n",
       "multiprocessing    3\n",
       "pylab              3\n",
       "dateutil           3\n",
       "erddapy            3\n",
       "io                 3\n",
       "pyresample         2\n",
       "calendar           2\n",
       "sqalchemy          2\n",
       "select             2\n",
       "proplot            2\n",
       "sparse             2\n",
       "hvplot             2\n",
       "joblib             2\n",
       "cosima_cookbook    2\n",
       "descartes          2\n",
       "windspharm         2\n",
       "fileinput          2\n",
       "gc                 2\n",
       "tempfile           2\n",
       "lxml               2\n",
       "fsspec             2\n",
       "getopt             2\n",
       "fnmatch            2\n",
       "xhistogram         2\n",
       "yaml               2\n",
       "skimage            2\n",
       "unittest           2\n",
       "rasterio           2\n",
       "cfgrib             2\n",
       "socket             2\n",
       "distributed        2\n",
       "gcsfs              2\n",
       "rechunker          2\n",
       "pdb                2\n",
       "shapefile          2\n",
       "dash               2\n",
       "uuid               2\n",
       "mpi4py             2\n",
       "nc_time_axis       2\n",
       "is                 2\n",
       "dataclasses        2\n",
       "pyproj             2\n",
       "bokeh              2\n",
       "plotly             2\n",
       "ctypes             2\n",
       "Name: libraries, dtype: int64"
      ]
     },
     "execution_count": 95,
     "metadata": {},
     "output_type": "execute_result"
    }
   ],
   "source": [
    "library_counts[52:105]"
   ]
  },
  {
   "cell_type": "code",
   "execution_count": 68,
   "metadata": {},
   "outputs": [
    {
     "data": {
      "text/plain": [
       "random              1\n",
       "pykrige             1\n",
       "nexradaws           1\n",
       "abc                 1\n",
       "tensorflow          1\n",
       "timezonefinder      1\n",
       "errno               1\n",
       "geopy               1\n",
       "csu_radartools      1\n",
       "glmtools            1\n",
       "cdsm2               1\n",
       "utils4hycom         1\n",
       "dask_gateway        1\n",
       "heapq               1\n",
       "ncdump              1\n",
       "xroms               1\n",
       "satpy               1\n",
       "fiona               1\n",
       "configargparse      1\n",
       "salem               1\n",
       "imageio             1\n",
       "path                1\n",
       "zipfile             1\n",
       "emcee               1\n",
       "rtree               1\n",
       "climtas             1\n",
       "astropy             1\n",
       "hurricanetracker    1\n",
       "oceanmodes          1\n",
       "cmaps               1\n",
       "climlab             1\n",
       "pingouin            1\n",
       "bentoml             1\n",
       "serial              1\n",
       "PIL                 1\n",
       "jupyter             1\n",
       "bs4                 1\n",
       "waipy               1\n",
       "urllib2             1\n",
       "urllib3             1\n",
       "mpldatacursor       1\n",
       "keras               1\n",
       "regionmask          1\n",
       "memory_profiler     1\n",
       "palettable          1\n",
       "Name: libraries, dtype: int64"
      ]
     },
     "execution_count": 68,
     "metadata": {},
     "output_type": "execute_result"
    }
   ],
   "source": [
    "library_counts[105:150]"
   ]
  },
  {
   "cell_type": "code",
   "execution_count": 69,
   "metadata": {},
   "outputs": [
    {
     "data": {
      "text/plain": [
       "prefect          1\n",
       "cmcrameri        1\n",
       "innvestigate     1\n",
       "shlex            1\n",
       "geographiclib    1\n",
       "xlrd             1\n",
       "utils            1\n",
       "rawpyampr        1\n",
       "exchangelib      1\n",
       "gatspy           1\n",
       "cprofile         1\n",
       "timeit           1\n",
       "sqlite3          1\n",
       "win32com         1\n",
       "skewt            1\n",
       "statistics       1\n",
       "geojson          1\n",
       "earthpy          1\n",
       "sphinx           1\n",
       "fastapi          1\n",
       "netcdftime       1\n",
       "asteval          1\n",
       "s3fs             1\n",
       "functools        1\n",
       "pprint           1\n",
       "pysftp           1\n",
       "colorcet         1\n",
       "ipywidgets       1\n",
       "optparse         1\n",
       "lmatools         1\n",
       "gdal             1\n",
       "Rpi              1\n",
       "click            1\n",
       "gstools          1\n",
       "code             1\n",
       "rioxarray        1\n",
       "pydda            1\n",
       "threading        1\n",
       "exifread         1\n",
       "cdutil           1\n",
       "exceptions       1\n",
       "difflib          1\n",
       "pyhdf            1\n",
       "ipython          1\n",
       "fcntl            1\n",
       "dualpol          1\n",
       "adpaa_python3    1\n",
       "tropd            1\n",
       "xml              1\n",
       "stats            1\n",
       "Name: libraries, dtype: int64"
      ]
     },
     "execution_count": 69,
     "metadata": {},
     "output_type": "execute_result"
    }
   ],
   "source": [
    "library_counts[150:200]"
   ]
  },
  {
   "cell_type": "code",
   "execution_count": 70,
   "metadata": {},
   "outputs": [
    {
     "data": {
      "text/plain": [
       "asyncio               1\n",
       "dask_image            1\n",
       "xmltodict             1\n",
       "base64                1\n",
       "pyampr                1\n",
       "nio                   1\n",
       "cdo                   1\n",
       "typing                1\n",
       "simplekml             1\n",
       "bgroups               1\n",
       "cx_oracle             1\n",
       "ipdb                  1\n",
       "osmnx                 1\n",
       "mplcursors            1\n",
       "cmdline_provenance    1\n",
       "xhtml2pdf             1\n",
       "boto3                 1\n",
       "colorama              1\n",
       "compliance-checker    1\n",
       "grpc                  1\n",
       "operator              1\n",
       "pyspec                1\n",
       "parcels               1\n",
       "geos                  1\n",
       "holoviews             1\n",
       "dask_jobqueue         1\n",
       "cloudpickle           1\n",
       "sabor                 1\n",
       "tarfile               1\n",
       "fastjmd95             1\n",
       "pydoe                 1\n",
       "psutil                1\n",
       "traceback             1\n",
       "wrf                   1\n",
       "folium                1\n",
       "v4l2capture           1\n",
       "struct                1\n",
       "fastai                1\n",
       "MV2                   1\n",
       "bottleneck            1\n",
       "pstat                 1\n",
       "so                    1\n",
       "tsmoothie             1\n",
       "sqlalchemy            1\n",
       "bucketstore           1\n",
       "sharpy                1\n",
       "decimal               1\n",
       "cdsapi                1\n",
       "Name: libraries, dtype: int64"
      ]
     },
     "execution_count": 70,
     "metadata": {},
     "output_type": "execute_result"
    }
   ],
   "source": [
    "library_df['libraries'].value_counts()[200:250]"
   ]
  },
  {
   "cell_type": "code",
   "execution_count": 96,
   "metadata": {},
   "outputs": [
    {
     "name": "stdout",
     "output_type": "stream",
     "text": [
      "# core\n",
      "numpy         85.7\n",
      "matplotlib    79.3\n",
      "xarray        69.3\n",
      "cartopy       50.0\n",
      "dask          19.3\n",
      "iris           3.6\n",
      "cdms2          0.7\n",
      "cdutil         0.7\n",
      "MV2            0.7\n",
      "Name: libraries, dtype: float64\n",
      "\n",
      "\n",
      "# remote\n",
      "siphon     5.7\n",
      "pydap      2.1\n",
      "erddapy    2.1\n",
      "Name: libraries, dtype: float64\n",
      "\n",
      "\n",
      "# geospatial\n",
      "shapely    7.9\n",
      "pyproj     1.4\n",
      "Name: libraries, dtype: float64\n",
      "\n",
      "\n",
      "# files\n",
      "netcdf4      25.0\n",
      "pygrib        2.9\n",
      "zarr          2.9\n",
      "h5py          2.9\n",
      "shapefile     1.4\n",
      "rasterio      1.4\n",
      "fiona         0.7\n",
      "Name: libraries, dtype: float64\n",
      "\n",
      "\n",
      "# AOS utilities\n",
      "cmocean        15.7\n",
      "metpy          14.3\n",
      "pyart           5.0\n",
      "gsw             2.9\n",
      "eofs            2.1\n",
      "glidertools     2.1\n",
      "windspharm      1.4\n",
      "Name: libraries, dtype: float64\n",
      "\n",
      "\n",
      "# CF utilities\n",
      "cftime          2.9\n",
      "cf_units        2.1\n",
      "cfgrib          1.4\n",
      "nc_time_axis    1.4\n",
      "Name: libraries, dtype: float64\n",
      "\n",
      "\n",
      "# plotting\n",
      "seaborn      11.4\n",
      "pylab         2.1\n",
      "bokeh         1.4\n",
      "plotly        1.4\n",
      "hvplot        1.4\n",
      "proplot       1.4\n",
      "holoviews     0.7\n",
      "Name: libraries, dtype: float64\n",
      "\n",
      "\n",
      "# data science\n",
      "pandas         52.1\n",
      "scipy          37.9\n",
      "sklearn         7.1\n",
      "geopandas       7.1\n",
      "intake          5.7\n",
      "statsmodels     5.0\n",
      "numba           3.6\n",
      "skimage         1.4\n",
      "sparse          1.4\n",
      "pyresample      1.4\n",
      "descartes       1.4\n",
      "Name: libraries, dtype: float64\n",
      "\n",
      "\n",
      "# miscellaneous\n",
      "requests     7.9\n",
      "tqdm         3.6\n",
      "pytz         3.6\n",
      "dateutil     2.1\n",
      "psycopg2     2.1\n",
      "joblib       1.4\n",
      "dash         1.4\n",
      "mpi4py       1.4\n",
      "yaml         1.4\n",
      "rechunker    1.4\n",
      "sqalchemy    1.4\n",
      "gcsfs        1.4\n",
      "lxml         1.4\n",
      "fsspec       1.4\n",
      "Name: libraries, dtype: float64\n",
      "\n",
      "\n",
      "# xarray extensions\n",
      "xgcm          7.9\n",
      "xesmf         5.7\n",
      "xrft          3.6\n",
      "xhistogram    1.4\n",
      "regionmask    0.7\n",
      "Name: libraries, dtype: float64\n",
      "\n",
      "\n",
      "# standard library\n",
      "datetime           35.0\n",
      "os                 33.6\n",
      "sys                26.4\n",
      "glob               20.0\n",
      "pathlib            10.0\n",
      "re                  9.3\n",
      "math                8.6\n",
      "warnings            7.9\n",
      "copy                7.1\n",
      "time                6.4\n",
      "pickle              5.7\n",
      "csv                 5.7\n",
      "shutil              5.7\n",
      "argparse            5.7\n",
      "collections         5.0\n",
      "subprocess          5.0\n",
      "urllib              4.3\n",
      "json                4.3\n",
      "gzip                2.9\n",
      "logging             2.9\n",
      "io                  2.1\n",
      "importlib           2.1\n",
      "itertools           2.1\n",
      "string              2.1\n",
      "multiprocessing     2.1\n",
      "dataclasses         1.4\n",
      "pdb                 1.4\n",
      "select              1.4\n",
      "fnmatch             1.4\n",
      "socket              1.4\n",
      "getopt              1.4\n",
      "ctypes              1.4\n",
      "fileinput           1.4\n",
      "unittest            1.4\n",
      "gc                  1.4\n",
      "tempfile            1.4\n",
      "uuid                1.4\n",
      "calendar            1.4\n",
      "Name: libraries, dtype: float64\n",
      "\n",
      "\n"
     ]
    }
   ],
   "source": [
    "for category in categories.keys():\n",
    "    print(f'# {category}')\n",
    "    total = library_df[library_df['category'] == category]['libraries'].value_counts()\n",
    "    pct = (total / nrespondents) * 100\n",
    "    print(round(pct, 1))\n",
    "    print('\\n')"
   ]
  },
  {
   "cell_type": "code",
   "execution_count": null,
   "metadata": {},
   "outputs": [],
   "source": []
  }
 ],
 "metadata": {
  "kernelspec": {
   "display_name": "Python 3",
   "language": "python",
   "name": "python3"
  },
  "language_info": {
   "codemirror_mode": {
    "name": "ipython",
    "version": 3
   },
   "file_extension": ".py",
   "mimetype": "text/x-python",
   "name": "python",
   "nbconvert_exporter": "python",
   "pygments_lexer": "ipython3",
   "version": "3.8.5"
  }
 },
 "nbformat": 4,
 "nbformat_minor": 4
}
